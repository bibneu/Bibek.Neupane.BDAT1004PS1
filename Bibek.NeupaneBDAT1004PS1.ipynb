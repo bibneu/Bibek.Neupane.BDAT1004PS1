{
 "cells": [
  {
   "cell_type": "code",
   "execution_count": null,
   "id": "e116880b-cf58-49f4-b443-9c6875c12e11",
   "metadata": {},
   "outputs": [],
   "source": [
    "Problem Set 1"
   ]
  },
  {
   "cell_type": "markdown",
   "id": "f784a705-3785-4ba5-911b-5fa71cd85563",
   "metadata": {},
   "source": [
    "### Question 1\n",
    " - What data type is each of the following (evaluate where necessary)?\n",
    "\n",
    "5\n",
    "\n",
    "5.0\n",
    "\n",
    "5 > 1\n",
    "\n",
    "'5'\n",
    "\n",
    "5 * 2\n",
    "\n",
    "'5' * 2\n",
    "\n",
    "'5' + '2'\n",
    "\n",
    "5 / 2\n",
    "\n",
    "5 % 2\n",
    "\n",
    "{5, 2, 1}\n",
    "\n",
    "5 == 3\n",
    "\n",
    "Pi (the number)"
   ]
  },
  {
   "cell_type": "code",
   "execution_count": 1,
   "id": "03204f17-7cce-4f90-b1d3-d2363a65a80b",
   "metadata": {
    "scrolled": true
   },
   "outputs": [
    {
     "name": "stdout",
     "output_type": "stream",
     "text": [
      "<class 'int'>\n",
      "<class 'float'>\n",
      "<class 'bool'>\n",
      "<class 'str'>\n",
      "<class 'int'>\n",
      "<class 'str'>\n",
      "<class 'str'>\n",
      "<class 'float'>\n",
      "<class 'int'>\n",
      "<class 'set'>\n",
      "<class 'bool'>\n",
      "<class 'float'>\n"
     ]
    }
   ],
   "source": [
    "import math\n",
    "print(type(5))\n",
    "print(type(5.0))\n",
    "print(type(5>1))\n",
    "print(type('5'))\n",
    "print(type(5*2))\n",
    "print(type('5'*2))\n",
    "print(type('5'+'2'))\n",
    "print(type(5/2))\n",
    "print(type(5%2))\n",
    "print(type({5,2,1}))\n",
    "print(type(5==3))\n",
    "print(type(math.pi))"
   ]
  },
  {
   "cell_type": "markdown",
   "id": "60f460dd-0bd6-4563-ae81-d4e94b0bea5d",
   "metadata": {},
   "source": [
    "### Question 2\n",
    " - **Write (and evaluate) python expressions that answer these questions:**"
   ]
  },
  {
   "cell_type": "markdown",
   "id": "0a5b0d5f-8811-44c4-96f4-6e04cc5c9b0b",
   "metadata": {},
   "source": [
    "**a. How many letters are there in 'Supercalifragilisticexpialidocious'?**"
   ]
  },
  {
   "cell_type": "code",
   "execution_count": 2,
   "id": "55ddee1a-92e6-4373-93b7-5b2b62aa1686",
   "metadata": {},
   "outputs": [
    {
     "name": "stdout",
     "output_type": "stream",
     "text": [
      "34\n"
     ]
    }
   ],
   "source": [
    "letter = 'Supercalifragilisticexpialidocious'\n",
    "count = 0\n",
    "for char in letter: \n",
    "    count +=1 # we can use len() method for direct calculation\n",
    "print(count)"
   ]
  },
  {
   "cell_type": "markdown",
   "id": "589420b6-e628-464c-b0ea-51fe58f35d9a",
   "metadata": {},
   "source": [
    "**b. Does 'Supercalifragilisticexpialidocious' contain 'ice' as a substring?**"
   ]
  },
  {
   "cell_type": "code",
   "execution_count": 4,
   "id": "9e04e6c7-25b1-437d-b9c6-3f28323a1517",
   "metadata": {},
   "outputs": [
    {
     "name": "stdout",
     "output_type": "stream",
     "text": [
      "Yes\n"
     ]
    }
   ],
   "source": [
    "letter =  'Supercalifragilisticexpialidocious'\n",
    "subLetter = 'ice'\n",
    "if subLetter in letter:\n",
    "    print('Yes')\n",
    "else:\n",
    "    print('No')"
   ]
  },
  {
   "cell_type": "markdown",
   "id": "e668dd2a-4c4e-49d4-9bde-1764fd0c33db",
   "metadata": {},
   "source": [
    "**c.Which of the following words is the longest:\n",
    "Supercalifragilisticexpialidocious, Honorificabilitudinitatibus, or\n",
    "Bababadalgharaghtakamminarronnkonn?**"
   ]
  },
  {
   "cell_type": "code",
   "execution_count": 5,
   "id": "ca84ef77-0f56-4e94-8df8-51e97a441cd8",
   "metadata": {},
   "outputs": [
    {
     "name": "stdout",
     "output_type": "stream",
     "text": [
      "The longest word is:  Supercalifragilisticexpialidocious\n"
     ]
    }
   ],
   "source": [
    "words = ['Supercalifragilisticexpialidocious','Honorificabilitudinitatibus','Bababadalgharaghtakamminarronnkonn']\n",
    "\n",
    "longest_word = max(words, key = len)\n",
    "\n",
    "print(\"The longest word is: \", longest_word)"
   ]
  },
  {
   "cell_type": "markdown",
   "id": "f122f2e9-83c0-4b36-afa4-746f4119380c",
   "metadata": {},
   "source": [
    "**d. Which composer comes first in the dictionary: 'Berlioz', 'Borodin', 'Brian',\n",
    "'Bartok', 'Bellini', 'Buxtehude', 'Bernstein'. Which one comes last?**"
   ]
  },
  {
   "cell_type": "code",
   "execution_count": 6,
   "id": "00f14abe-7487-4377-97f2-1ad2dd109b3e",
   "metadata": {},
   "outputs": [
    {
     "name": "stdout",
     "output_type": "stream",
     "text": [
      "The first composer is:  Bartok\n",
      "The last composer is:  Buxtehude\n"
     ]
    }
   ],
   "source": [
    "#creating list of composer\n",
    "composer_list = ['Berlioz', 'Borodin', 'Brian','Bartok', 'Bellini', 'Buxtehude', 'Bernstein']\n",
    "\n",
    "#checking through inbuit function\n",
    "first_composer = min(composer_list)\n",
    "last_composer = max(composer_list)\n",
    "\n",
    "print(\"The first composer is: \", first_composer)\n",
    "print(\"The last composer is: \", last_composer)"
   ]
  },
  {
   "cell_type": "markdown",
   "id": "e37af939-37d1-44b3-986b-1c4264fb96e8",
   "metadata": {},
   "source": [
    "### Question 3\n",
    "**Implement function triangleArea(a,b,c) that takes as input the lengths of the 3\n",
    "sides of a triangle and returns the area of the triangle. By Heron's formula, the area\n",
    "of a triangle with side lengths a, b, and c iss(s - a)(s - b)(s - c) , wheres = (a + b + c)/2\n",
    ".**\n",
    ">>> triangleArea(2,2,2)\n",
    "1.7320508075688772"
   ]
  },
  {
   "cell_type": "code",
   "execution_count": 9,
   "id": "a1bd2205-6deb-41b7-b18f-1bbf5bb24ff1",
   "metadata": {},
   "outputs": [
    {
     "name": "stdin",
     "output_type": "stream",
     "text": [
      "Enter the length of side a:  2\n",
      "Enter the length of side b:  2\n",
      "Enter the length of side c:  2\n"
     ]
    },
    {
     "name": "stdout",
     "output_type": "stream",
     "text": [
      "The area of the triangle is: 1.7320508075688772\n"
     ]
    }
   ],
   "source": [
    "import math\n",
    "a = int(input(\"Enter the length of side a: \"))\n",
    "b = int(input(\"Enter the length of side b: \"))\n",
    "c = int(input(\"Enter the length of side c: \"))\n",
    "# Function to calculate the area of a triangle using Heron's formula\n",
    "def triangleArea(a, b, c):\n",
    "    # Calculate the semi-perimeter\n",
    "    s = (a + b + c) / 2\n",
    "    \n",
    "    # Calculate the area using Heron's formula\n",
    "    area = math.sqrt(s * (s - a) * (s - b) * (s - c))\n",
    "    \n",
    "    return area\n",
    "print(\"The area of the triangle is:\", triangleArea(a, b, c))"
   ]
  },
  {
   "cell_type": "markdown",
   "id": "0b5c3c60-9756-47d1-8a9d-f71da7446363",
   "metadata": {},
   "source": [
    "### Question 4\n",
    "**Write a program in python to separate odd and even integers in separate arrays. Go\n",
    "to the editor**\n",
    "Test Data :\n",
    "\n",
    "Input the number of elements to be stored in the array :5\n",
    "\n",
    "Input 5 elements in the array :\n",
    "\n",
    "element - 0 : 25\n",
    "\n",
    "element - 1 : 47\n",
    "\n",
    "element - 2 : 42\n",
    "\n",
    "element - 3 : 56\n",
    "\n",
    "element - 4 : 32\n",
    "\n",
    "Expected Output:\n",
    "\n",
    "The Even elements are:\n",
    "\n",
    "42 56 32\n",
    "\n",
    "The Odd elements are :\n",
    "\n",
    "25 47"
   ]
  },
  {
   "cell_type": "code",
   "execution_count": 11,
   "id": "e020f513-eebc-4500-b96f-e9aec69e096c",
   "metadata": {},
   "outputs": [
    {
     "name": "stdin",
     "output_type": "stream",
     "text": [
      "Enter the number of elements to be stored:  5\n",
      "element- 0:   25\n",
      "element- 1:   47\n",
      "element- 2:   42\n",
      "element- 3:   56\n",
      "element- 4:   32\n"
     ]
    },
    {
     "name": "stdout",
     "output_type": "stream",
     "text": [
      "Even Elements are:  [42, 56, 32]\n",
      "Odd Elements are:  [25, 47]\n"
     ]
    }
   ],
   "source": [
    "array = [] # creating empty array to store elements\n",
    "evenArray = [] # creating empty array to store even elems\n",
    "oddArray = [] # creating empty array to store odd elems\n",
    "\n",
    "number_of_elemet = int(input(\"Enter the number of elements to be stored: \"))\n",
    "\n",
    "for i in range(5):\n",
    "    data = int(input(f\"element- {i}:  \"))\n",
    "    array.append(data)\n",
    "    \n",
    "for i in array:\n",
    "    \n",
    "    if i %2==0: \n",
    "        evenArray.append(i)\n",
    "    else:\n",
    "        oddArray.append(i)\n",
    "        \n",
    "print(\"Even Elements are: \", evenArray)\n",
    "print(\"Odd Elements are: \", oddArray)"
   ]
  },
  {
   "cell_type": "markdown",
   "id": "d52ea32e-7b52-48ee-9dbd-652ffcaf89bd",
   "metadata": {},
   "source": [
    "### Question 5"
   ]
  },
  {
   "cell_type": "markdown",
   "id": "bbc95824-29cf-4723-b137-8eabcfbdd217",
   "metadata": {},
   "source": [
    "**a. Write a function inside(x,y,x1,y1,x2,y2) that returns True or False\n",
    "depending on whether the point (x,y) lies in the rectangle with lower left\n",
    "corner (x1,y1) and upper right corner (x2,y2).**\n",
    ">>> inside(1,1,0,0,2,3)\n",
    ">>> \n",
    "True\n",
    ">>> inside(-1,-1,0,0,2,3)\n",
    ">>> \n",
    "False"
   ]
  },
  {
   "cell_type": "code",
   "execution_count": 12,
   "id": "d66f4936-174f-4053-955b-4fcd02d6392b",
   "metadata": {},
   "outputs": [
    {
     "name": "stdout",
     "output_type": "stream",
     "text": [
      "True\n",
      "False\n"
     ]
    }
   ],
   "source": [
    "def inside(X,Y,X1,Y1,X2,Y2): # function definition\n",
    "    if X1 <= X <=X2 and Y1<=Y<=Y2: # checking the condition\n",
    "        return True\n",
    "    else:\n",
    "        return False\n",
    "    \n",
    "result1 = inside(1,1,0,0,2,3) #function call for test data (1,1,0,0,2,3)\n",
    "print(result1)\n",
    "\n",
    "result2 = inside(-1,-1,0,0,2,3) #funcation call for test data (-1,-1,0,0,2,3)\n",
    "print(result2)"
   ]
  },
  {
   "cell_type": "markdown",
   "id": "9440f2d0-27b6-4859-8a2d-5144d8658844",
   "metadata": {},
   "source": [
    "**b. Use function inside() from part a. to write an expression that tests whether\n",
    "the point (1,1) lies in both of the following rectangles: one with lower left\n",
    "corner (0.3, 0.5) and upper right corner (1.1, 0.7) and the other with lower\n",
    "left corner (0.5, 0.2) and upper right corner (1.1, 2).**"
   ]
  },
  {
   "cell_type": "code",
   "execution_count": 13,
   "id": "f10afaa5-756f-4a60-a9cb-c817fa9a286a",
   "metadata": {},
   "outputs": [
    {
     "name": "stdout",
     "output_type": "stream",
     "text": [
      "False\n"
     ]
    }
   ],
   "source": [
    "result3 = inside(1,1,0.3,0.5,1.1,0.7)\n",
    "print(result3)"
   ]
  },
  {
   "cell_type": "code",
   "execution_count": 14,
   "id": "56a4ca9a-0c4b-469f-9ec8-a1b51228c34e",
   "metadata": {},
   "outputs": [
    {
     "name": "stdout",
     "output_type": "stream",
     "text": [
      "True\n"
     ]
    }
   ],
   "source": [
    "result4 = inside(1,1,0.5,0.2,1.1,2)\n",
    "print(result4)"
   ]
  },
  {
   "cell_type": "markdown",
   "id": "82f875f9-0b87-4a9c-8002-ad5f489f15aa",
   "metadata": {},
   "source": [
    "### Question 6\n",
    "**You can turn a word into pig-Latin using the following two rules (simplified):**\n",
    "\n",
    "• If the word starts with a consonant, move that letter to the end and append\n",
    "'ay'. For example, 'happy' becomes 'appyhay' and 'pencil' becomes 'encilpay'.\n",
    "\n",
    "• If the word starts with a vowel, simply append 'way' to the end of the word.\n",
    "For example, 'enter' becomes 'enterway' and 'other' becomes 'otherway' . For\n",
    "our purposes, there are 5 vowels: a, e, i, o, u (so we count y as a consonant).\n",
    "\n",
    "Write a function pig() that takes a word (i.e., a string) as input and returns its pig-\n",
    "Latin form. Your function should still work if the input word contains upper case\n",
    "characters. Your output should always be lower case however.\n",
    ">>> pig('happy')\n",
    ">>> \n",
    "'appyhay'\n",
    ">>> \n",
    ">>> pig('Enter')\n",
    ">>> \n",
    "'enterway'"
   ]
  },
  {
   "cell_type": "code",
   "execution_count": 23,
   "id": "3cea7c1a-c37e-41e8-858f-251b8024aad6",
   "metadata": {},
   "outputs": [
    {
     "name": "stdout",
     "output_type": "stream",
     "text": [
      "appyhay\n",
      "enterway\n",
      "encilpay\n",
      "otherway\n",
      "ibekbay\n"
     ]
    }
   ],
   "source": [
    "def pig(word_data):\n",
    "    \n",
    "    word_data = word_data.lower() # converting the word into lower case\n",
    "    vowel_letter = ['a','e','i','o','u']\n",
    "    \n",
    "    if word_data[0] in vowel_letter:#checking whether vowel is at start of word or not\n",
    "        \n",
    "        word_data = word_data+'way'\n",
    "        return word_data\n",
    "    \n",
    "    else:\n",
    "        word_data = word_data[1:]+word_data[0]+'ay'\n",
    "        return word_data\n",
    "   \n",
    "    \n",
    "word1 = \"happy\"\n",
    "word2 = \"Enter\"\n",
    "word3 = \"pencil\"\n",
    "word4 =\"other\"\n",
    "word5 = \"BIBEK\"\n",
    "\n",
    "print(pig(word1))\n",
    "print(pig(word2))\n",
    "print(pig(word3))\n",
    "print(pig(word4))\n",
    "print(pig(word5))"
   ]
  },
  {
   "cell_type": "markdown",
   "id": "08dc0f40-ed71-4446-b631-e0c59b44fefa",
   "metadata": {},
   "source": [
    "### Question 7\n",
    "**File bloodtype1.txt records blood-types of patients (A, B, AB, O or OO) at a clinic.\n",
    "Write a function bldcount() that reads the file with name name and reports (i.e.,\n",
    "prints) how many patients there are in each bloodtype.**\n",
    ">>> bldcount('bloodtype.txt')\n",
    "There are 15 patients of blood type A.\n",
    "There is one patient of blood type B.\n",
    "There are 13 patients of blood type AB.\n",
    "There are 15 patients of blood type O.\n",
    "There are no patients of blood type OO."
   ]
  },
  {
   "cell_type": "code",
   "execution_count": 1,
   "id": "5399d82f-1bcd-40d1-b20a-1f18f55962cb",
   "metadata": {},
   "outputs": [
    {
     "name": "stdout",
     "output_type": "stream",
     "text": [
      "There are 15 patients of blood type A.\n",
      "There is 1 patient of blood type B.\n",
      "There are 13 patients of blood type AB.\n",
      "There are 15 patients of blood type O.\n",
      "There are 0 patients of blood type OO.\n"
     ]
    }
   ],
   "source": [
    "def bldcount(fname):\n",
    "    \n",
    "    counts = {\"A\": 0, \"B\": 0, \"AB\": 0, \"O\": 0, \"OO\": 0} # dictionary initialize\n",
    "\n",
    "    try:\n",
    "        # Open and read the file\n",
    "        with open(fname, \"r\") as file:\n",
    "            \n",
    "            data = file.read()\n",
    "            \n",
    "        btypes = data.split()\n",
    "        #counting each blood types\n",
    "        for btype in btypes:\n",
    "            if btype in counts:\n",
    "                counts[btype] +=1\n",
    "                \n",
    "             #printing the results         \n",
    "        for blood_type, count in counts.items():\n",
    "            if count==1:\n",
    "                print(f\"There is {count} patient of blood type {blood_type}.\")\n",
    "            else:\n",
    "                print(f\"There are {count} patients of blood type {blood_type}.\")\n",
    "            \n",
    "                \n",
    "    except FileNotFoundError:\n",
    "        print(\"File not found.\")\n",
    "\n",
    "bldcount(\"bloodtype1.txt\")"
   ]
  },
  {
   "cell_type": "markdown",
   "id": "10de74d8-6dd0-44ba-b726-caff5116fe70",
   "metadata": {},
   "source": [
    "### Question 8\n",
    "**Write a function curconv() that takes as input:**\n",
    "1. a currency represented using a string (e.g., 'JPY' for the Japanese Yen or\n",
    "'EUR' for the Euro)\n",
    "2. an amount\n",
    "and then converts and returns the amount in US dollars.\n",
    ">>> curconv('EUR', 100)\n",
    ">>> \n",
    "122.96544\n",
    "\n",
    ">>> curconv('JPY', 100)\n",
    ">>> \n",
    "1.241401"
   ]
  },
  {
   "cell_type": "code",
   "execution_count": 8,
   "id": "5942ce8e-84d6-4c06-b2f9-f10112b50b68",
   "metadata": {},
   "outputs": [],
   "source": [
    "def curconv(currency, amount):\n",
    "    \n",
    "    currency_rate = {} #\n",
    "    try: \n",
    "        with open('currencies.txt', 'r') as file: # file open\n",
    "    \n",
    "            for data in file:\n",
    "                \n",
    "                currency_parts = data.strip().split()\n",
    "                currency_code, rate= currency_parts[:2] # storing only Currency code and rate\n",
    "                currency_rate[currency_code]=float(rate)\n",
    "                \n",
    "        if currency in currency_rate:\n",
    "            usd_amount = amount* currency_rate[currency] # calculating the usd amount\n",
    "            return usd_amount\n",
    "            \n",
    "        else:\n",
    "            print(\"Currency not found in currency rate\")\n",
    "                \n",
    "    except FileNotFoundError:\n",
    "        print(\"File not found\")     "
   ]
  },
  {
   "cell_type": "code",
   "execution_count": 6,
   "id": "16e5b606-ee46-41de-b96c-cff356332d10",
   "metadata": {},
   "outputs": [
    {
     "data": {
      "text/plain": [
       "122.96544"
      ]
     },
     "execution_count": 6,
     "metadata": {},
     "output_type": "execute_result"
    }
   ],
   "source": [
    "curconv('EUR',100)"
   ]
  },
  {
   "cell_type": "code",
   "execution_count": 9,
   "id": "e263e0c2-50a9-4dc8-9e0d-79217b61d569",
   "metadata": {},
   "outputs": [
    {
     "data": {
      "text/plain": [
       "1.241401"
      ]
     },
     "execution_count": 9,
     "metadata": {},
     "output_type": "execute_result"
    }
   ],
   "source": [
    "curconv('JPY', 100)"
   ]
  },
  {
   "cell_type": "markdown",
   "id": "cec6c874-a1f5-40ed-9305-210374d8b8b2",
   "metadata": {},
   "source": [
    "## Question 9\n",
    "**Each of the following will cause an exception (an error). Identify what type of\n",
    "exception each will cause.**"
   ]
  },
  {
   "cell_type": "code",
   "execution_count": 25,
   "id": "7f735a02-5413-45e8-a5c0-762d8fd026d8",
   "metadata": {},
   "outputs": [
    {
     "ename": "SyntaxError",
     "evalue": "invalid character '‘' (U+2018) (59763569.py, line 2)",
     "output_type": "error",
     "traceback": [
      "\u001b[0;36m  Cell \u001b[0;32mIn[25], line 2\u001b[0;36m\u001b[0m\n\u001b[0;31m    adding 6 + ‘a’\u001b[0m\n\u001b[0m               ^\u001b[0m\n\u001b[0;31mSyntaxError\u001b[0m\u001b[0;31m:\u001b[0m invalid character '‘' (U+2018)\n"
     ]
    }
   ],
   "source": [
    "#Trying to add incompatible variables, as in\n",
    "adding 6 + ‘a’\n",
    "\n",
    "print(6+'a')"
   ]
  },
  {
   "cell_type": "code",
   "execution_count": 28,
   "id": "2bdc4bde-7159-4ea8-ba2d-bb8e0809c682",
   "metadata": {},
   "outputs": [
    {
     "ename": "IndexError",
     "evalue": "list index out of range",
     "output_type": "error",
     "traceback": [
      "\u001b[0;31m---------------------------------------------------------------------------\u001b[0m",
      "\u001b[0;31mIndexError\u001b[0m                                Traceback (most recent call last)",
      "Cell \u001b[0;32mIn[28], line 4\u001b[0m\n\u001b[1;32m      1\u001b[0m \u001b[38;5;66;03m#Referring to the 12th item of a list that has only 10 items\u001b[39;00m\n\u001b[1;32m      2\u001b[0m \u001b[38;5;66;03m#Example\u001b[39;00m\n\u001b[1;32m      3\u001b[0m lst \u001b[38;5;241m=\u001b[39m [\u001b[38;5;241m1\u001b[39m,\u001b[38;5;241m2\u001b[39m,\u001b[38;5;241m3\u001b[39m,\u001b[38;5;241m4\u001b[39m,\u001b[38;5;241m5\u001b[39m,\u001b[38;5;241m6\u001b[39m,\u001b[38;5;241m7\u001b[39m,\u001b[38;5;241m8\u001b[39m,\u001b[38;5;241m9\u001b[39m,\u001b[38;5;241m10\u001b[39m]\n\u001b[0;32m----> 4\u001b[0m \u001b[38;5;28mprint\u001b[39m(\u001b[43mlst\u001b[49m\u001b[43m[\u001b[49m\u001b[38;5;241;43m12\u001b[39;49m\u001b[43m]\u001b[49m)\n",
      "\u001b[0;31mIndexError\u001b[0m: list index out of range"
     ]
    }
   ],
   "source": [
    "#Referring to the 12th item of a list that has only 10 items\n",
    "#Example\n",
    "\n",
    "lst = [1,2,3,4,5,6,7,8,9,10]\n",
    "print(lst[12])"
   ]
  },
  {
   "cell_type": "code",
   "execution_count": 14,
   "id": "7e251b43-3682-4df6-a54f-9b252b637b5e",
   "metadata": {},
   "outputs": [
    {
     "ename": "ValueError",
     "evalue": "math domain error",
     "output_type": "error",
     "traceback": [
      "\u001b[0;31m---------------------------------------------------------------------------\u001b[0m",
      "\u001b[0;31mValueError\u001b[0m                                Traceback (most recent call last)",
      "Cell \u001b[0;32mIn[14], line 4\u001b[0m\n\u001b[1;32m      2\u001b[0m \u001b[38;5;28;01mdef\u001b[39;00m \u001b[38;5;21mfun\u001b[39m(data):\n\u001b[1;32m      3\u001b[0m     \u001b[38;5;28mprint\u001b[39m(data)\n\u001b[0;32m----> 4\u001b[0m value \u001b[38;5;241m=\u001b[39m \u001b[43mmath\u001b[49m\u001b[38;5;241;43m.\u001b[39;49m\u001b[43msqrt\u001b[49m\u001b[43m(\u001b[49m\u001b[38;5;241;43m-\u001b[39;49m\u001b[38;5;241;43m1.0\u001b[39;49m\u001b[43m)\u001b[49m\n\u001b[1;32m      5\u001b[0m fun(value)\n",
      "\u001b[0;31mValueError\u001b[0m: math domain error"
     ]
    }
   ],
   "source": [
    "#Using a value that is out of range for a function’s\n",
    "input, such as calling math.sqrt(-1.0)\n",
    "\n",
    "import math\n",
    "def fun(data):\n",
    "    print(data)\n",
    "value = math.sqrt(-1.0)\n",
    "fun(value)"
   ]
  },
  {
   "cell_type": "code",
   "execution_count": 13,
   "id": "aae1cecb-b72a-4d5f-aeb9-a1a6738d7f7f",
   "metadata": {},
   "outputs": [
    {
     "ename": "NameError",
     "evalue": "name 'x' is not defined",
     "output_type": "error",
     "traceback": [
      "\u001b[0;31m---------------------------------------------------------------------------\u001b[0m",
      "\u001b[0;31mNameError\u001b[0m                                 Traceback (most recent call last)",
      "Cell \u001b[0;32mIn[13], line 1\u001b[0m\n\u001b[0;32m----> 1\u001b[0m \u001b[38;5;28mprint\u001b[39m(\u001b[43mx\u001b[49m)\n",
      "\u001b[0;31mNameError\u001b[0m: name 'x' is not defined"
     ]
    }
   ],
   "source": [
    "#Using an undeclared variable, such as print(x) when x has not been defined\n",
    "\n",
    "print(x)"
   ]
  },
  {
   "cell_type": "code",
   "execution_count": 29,
   "id": "91b45b62-c352-4b19-8d79-a796b3d94e49",
   "metadata": {},
   "outputs": [
    {
     "ename": "FileNotFoundError",
     "evalue": "[Errno 2] No such file or directory: 'Bibek.txt'",
     "output_type": "error",
     "traceback": [
      "\u001b[0;31m---------------------------------------------------------------------------\u001b[0m",
      "\u001b[0;31mFileNotFoundError\u001b[0m                         Traceback (most recent call last)",
      "Cell \u001b[0;32mIn[29], line 3\u001b[0m\n\u001b[1;32m      1\u001b[0m \u001b[38;5;66;03m#Trying to open a file that does not exist, such as mistyping the file name or looking in the wrong directory.\u001b[39;00m\n\u001b[0;32m----> 3\u001b[0m \u001b[38;5;28;01mwith\u001b[39;00m \u001b[38;5;28;43mopen\u001b[39;49m\u001b[43m(\u001b[49m\u001b[38;5;124;43m\"\u001b[39;49m\u001b[38;5;124;43mBibek.txt\u001b[39;49m\u001b[38;5;124;43m\"\u001b[39;49m\u001b[43m,\u001b[49m\u001b[38;5;124;43m\"\u001b[39;49m\u001b[38;5;124;43mr\u001b[39;49m\u001b[38;5;124;43m\"\u001b[39;49m\u001b[43m)\u001b[49m \u001b[38;5;28;01mas\u001b[39;00m file:\n\u001b[1;32m      4\u001b[0m     \u001b[38;5;28mprint\u001b[39m(file)\n",
      "File \u001b[0;32m/opt/homebrew/Cellar/jupyterlab/4.2.5_1/libexec/lib/python3.12/site-packages/IPython/core/interactiveshell.py:324\u001b[0m, in \u001b[0;36m_modified_open\u001b[0;34m(file, *args, **kwargs)\u001b[0m\n\u001b[1;32m    317\u001b[0m \u001b[38;5;28;01mif\u001b[39;00m file \u001b[38;5;129;01min\u001b[39;00m {\u001b[38;5;241m0\u001b[39m, \u001b[38;5;241m1\u001b[39m, \u001b[38;5;241m2\u001b[39m}:\n\u001b[1;32m    318\u001b[0m     \u001b[38;5;28;01mraise\u001b[39;00m \u001b[38;5;167;01mValueError\u001b[39;00m(\n\u001b[1;32m    319\u001b[0m         \u001b[38;5;124mf\u001b[39m\u001b[38;5;124m\"\u001b[39m\u001b[38;5;124mIPython won\u001b[39m\u001b[38;5;124m'\u001b[39m\u001b[38;5;124mt let you open fd=\u001b[39m\u001b[38;5;132;01m{\u001b[39;00mfile\u001b[38;5;132;01m}\u001b[39;00m\u001b[38;5;124m by default \u001b[39m\u001b[38;5;124m\"\u001b[39m\n\u001b[1;32m    320\u001b[0m         \u001b[38;5;124m\"\u001b[39m\u001b[38;5;124mas it is likely to crash IPython. If you know what you are doing, \u001b[39m\u001b[38;5;124m\"\u001b[39m\n\u001b[1;32m    321\u001b[0m         \u001b[38;5;124m\"\u001b[39m\u001b[38;5;124myou can use builtins\u001b[39m\u001b[38;5;124m'\u001b[39m\u001b[38;5;124m open.\u001b[39m\u001b[38;5;124m\"\u001b[39m\n\u001b[1;32m    322\u001b[0m     )\n\u001b[0;32m--> 324\u001b[0m \u001b[38;5;28;01mreturn\u001b[39;00m \u001b[43mio_open\u001b[49m\u001b[43m(\u001b[49m\u001b[43mfile\u001b[49m\u001b[43m,\u001b[49m\u001b[43m \u001b[49m\u001b[38;5;241;43m*\u001b[39;49m\u001b[43margs\u001b[49m\u001b[43m,\u001b[49m\u001b[43m \u001b[49m\u001b[38;5;241;43m*\u001b[39;49m\u001b[38;5;241;43m*\u001b[39;49m\u001b[43mkwargs\u001b[49m\u001b[43m)\u001b[49m\n",
      "\u001b[0;31mFileNotFoundError\u001b[0m: [Errno 2] No such file or directory: 'Bibek.txt'"
     ]
    }
   ],
   "source": [
    "#Trying to open a file that does not exist, such as mistyping the file name or looking in the wrong directory.\n",
    "\n",
    "with open(\"Bibek.txt\",\"r\") as file:\n",
    "    print(file)"
   ]
  },
  {
   "cell_type": "markdown",
   "id": "a39ad6ae-acbc-4e6b-b3ce-78e84159a14c",
   "metadata": {},
   "source": [
    "### Question 10\n",
    "**Encryption is the process of hiding the meaning of a text by substituting letters in the\n",
    "message with other letters, according to some system. If the process is successful, no\n",
    "one but the intended recipient can understand the encrypted message. Cryptanalysis\n",
    "refers to attempts to undo the encryption, even if some details of the encryption are\n",
    "unknown (for example, if an encrypted message has been intercepted). The first step\n",
    "of cryptanalysis is often to build up a table of letter frequencies in the encrypted text.\n",
    "Assume that the string letters is already defined as\n",
    "'abcdefghijklmnopqrstuvwxyz'.** \n",
    "\n",
    "Write a function called frequencies()\n",
    "that takes a string as its only parameter, and returns a list of integers, showing the\n",
    "number of times each character appears in the text. Your function may ignore any\n",
    "characters that are not in letters.\n",
    "\n",
    ">>> frequencies('The quick red fox got bored and went home.')\n",
    "[1, 1, 1, 3, 5, 1, 1, 2, 1, 0, 1, 0, 1, 2, 4, 0, 1, 2, 0, 2,\n",
    "1, 0, 1, 1, 0, 0]\n",
    "\n",
    ">>> frequencies('apple')"
   ]
  },
  {
   "cell_type": "code",
   "execution_count": 19,
   "id": "4d648d35-71ef-4d7a-bc58-875d05e16fe1",
   "metadata": {},
   "outputs": [],
   "source": [
    "def frequencies(text):\n",
    "    \n",
    "    letters = 'abcdefghijklmnopqrstuvwxyz'\n",
    "    word_count = {} # initializing dictionary\n",
    "    \n",
    "    for char in letters:\n",
    "        word_count[char] =0 # set 0 for each char\n",
    "        \n",
    "    text = text.lower() \n",
    "    \n",
    "    for char in text: # counting each char from whole text or sentence\n",
    "        if char in letters:\n",
    "            word_count[char] +=1\n",
    "            \n",
    "    frequencies_count = list(word_count.values()) # taking only dict values\n",
    "    return frequencies_count\n"
   ]
  },
  {
   "cell_type": "code",
   "execution_count": 20,
   "id": "7c9ef8e6-d4b3-4cc6-9a2c-6c7af6ed30a0",
   "metadata": {},
   "outputs": [
    {
     "name": "stdout",
     "output_type": "stream",
     "text": [
      "[1, 1, 1, 3, 5, 1, 1, 2, 1, 0, 1, 0, 1, 2, 4, 0, 1, 2, 0, 3, 1, 0, 1, 1, 0, 0]\n"
     ]
    }
   ],
   "source": [
    "text1 = frequencies('The quick red fox got bored and went home.')\n",
    "print(text1)"
   ]
  },
  {
   "cell_type": "code",
   "execution_count": 17,
   "id": "85bde273-f949-46ca-94cf-f65a24b2153b",
   "metadata": {},
   "outputs": [
    {
     "name": "stdout",
     "output_type": "stream",
     "text": [
      "[1, 0, 0, 0, 1, 0, 0, 0, 0, 0, 0, 1, 0, 0, 0, 2, 0, 0, 0, 0, 0, 0, 0, 0, 0, 0]\n"
     ]
    }
   ],
   "source": [
    "text2 = frequencies('apple')\n",
    "print(text2)"
   ]
  }
 ],
 "metadata": {
  "kernelspec": {
   "display_name": "Python 3 (ipykernel)",
   "language": "python",
   "name": "python3"
  },
  "language_info": {
   "codemirror_mode": {
    "name": "ipython",
    "version": 3
   },
   "file_extension": ".py",
   "mimetype": "text/x-python",
   "name": "python",
   "nbconvert_exporter": "python",
   "pygments_lexer": "ipython3",
   "version": "3.12.6"
  }
 },
 "nbformat": 4,
 "nbformat_minor": 5
}
